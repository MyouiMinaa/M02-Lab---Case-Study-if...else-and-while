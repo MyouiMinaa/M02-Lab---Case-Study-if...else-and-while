{
 "cells": [
  {
   "cell_type": "code",
   "execution_count": 4,
   "id": "4f269e4b-1385-4b1f-a7a9-332c9b9e4f45",
   "metadata": {},
   "outputs": [],
   "source": [
    "# Ximena Carlos\n",
    "# M02 Lab - Case Study.ipynb\n",
    "# The purpose of this program is to input students names and their gpa's to decide whether they qualify for the dean's list, honor roll, or neither. This program will accept floati\n",
    "def qualify_student():\n",
    "    last_name = input(\"Student's last name: \")\n",
    "    if last_name == 'ZZZ':\n",
    "        print(\"\\nExiting the program.\")\n",
    "        return True  \n",
    "\n",
    "    first_name = input(\"Student's first name: \")\n",
    "    gpa = float(input(\"Student's GPA: \"))\n",
    "\n",
    "    if gpa >= 3.5:\n",
    "        print(f\"{first_name} {last_name} has made the Dean's List!\")\n",
    "    elif gpa >= 3.25:\n",
    "        print(f\"{first_name} {last_name} has made the Honor Roll!\")\n",
    "    else:\n",
    "        print(f\"{first_name} {last_name} doesn't qualify for the Dean's List nor the Honor Roll.\")\n",
    "    return False \n"
   ]
  },
  {
   "cell_type": "code",
   "execution_count": 8,
   "id": "6febc423-b92a-496e-853f-7048b11bfaf3",
   "metadata": {},
   "outputs": [
    {
     "name": "stdout",
     "output_type": "stream",
     "text": [
      "Welcome to the Student Qualification App!\n",
      "Enter 'ZZZ' as the last name to quit processing student records.\n"
     ]
    },
    {
     "name": "stdin",
     "output_type": "stream",
     "text": [
      "Student's last name:  Gomez\n",
      "Student's first name:  Jonathan\n",
      "Student's GPA:  2.67\n"
     ]
    },
    {
     "name": "stdout",
     "output_type": "stream",
     "text": [
      "Jonathan Gomez doesn't qualify for the Dean's List nor the Honor Roll.\n"
     ]
    },
    {
     "name": "stdin",
     "output_type": "stream",
     "text": [
      "Student's last name:  Carlos\n",
      "Student's first name:  Lily\n",
      "Student's GPA:  3.67\n"
     ]
    },
    {
     "name": "stdout",
     "output_type": "stream",
     "text": [
      "Lily Carlos has made the Dean's List!\n"
     ]
    },
    {
     "name": "stdin",
     "output_type": "stream",
     "text": [
      "Student's last name:  Champagne\n",
      "Student's first name:  Drake\n",
      "Student's GPA:  1.98\n"
     ]
    },
    {
     "name": "stdout",
     "output_type": "stream",
     "text": [
      "Drake Champagne doesn't qualify for the Dean's List nor the Honor Roll.\n"
     ]
    },
    {
     "name": "stdin",
     "output_type": "stream",
     "text": [
      "Student's last name:  Diaz\n",
      "Student's first name:  Kenya\n",
      "Student's GPA:  3.26\n"
     ]
    },
    {
     "name": "stdout",
     "output_type": "stream",
     "text": [
      "Kenya Diaz has made the Honor Roll!\n"
     ]
    },
    {
     "name": "stdin",
     "output_type": "stream",
     "text": [
      "Student's last name:  Rice\n",
      "Student's first name:  Mateo\n",
      "Student's GPA:  4.0\n"
     ]
    },
    {
     "name": "stdout",
     "output_type": "stream",
     "text": [
      "Mateo Rice has made the Dean's List!\n"
     ]
    },
    {
     "name": "stdin",
     "output_type": "stream",
     "text": [
      "Student's last name:  ZZZ\n"
     ]
    },
    {
     "name": "stdout",
     "output_type": "stream",
     "text": [
      "\n",
      "Exiting the program.\n"
     ]
    }
   ],
   "source": [
    "print(\"Welcome to the Student Qualification App!\")\n",
    "print(\"Enter 'ZZZ' as the last name to quit processing student records.\")\n",
    "\n",
    "while True:\n",
    "    if qualify_student():\n",
    "        break  \n"
   ]
  }
 ],
 "metadata": {
  "kernelspec": {
   "display_name": "Python 3 (ipykernel)",
   "language": "python",
   "name": "python3"
  },
  "language_info": {
   "codemirror_mode": {
    "name": "ipython",
    "version": 3
   },
   "file_extension": ".py",
   "mimetype": "text/x-python",
   "name": "python",
   "nbconvert_exporter": "python",
   "pygments_lexer": "ipython3",
   "version": "3.11.7"
  }
 },
 "nbformat": 4,
 "nbformat_minor": 5
}
